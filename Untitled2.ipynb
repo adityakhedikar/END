{
  "nbformat": 4,
  "nbformat_minor": 0,
  "metadata": {
    "colab": {
      "name": "Untitled2.ipynb",
      "provenance": [],
      "collapsed_sections": []
    },
    "kernelspec": {
      "name": "python3",
      "display_name": "Python 3"
    }
  },
  "cells": [
    {
      "cell_type": "markdown",
      "metadata": {
        "id": "8KXbPR_h0Aq8"
      },
      "source": [
        "Group Members :\n",
        "Aditya Khedikar\n",
        "Krishna Mundra"
      ]
    },
    {
      "cell_type": "code",
      "metadata": {
        "id": "daj1s_gN6HBp",
        "outputId": "1a13b844-dd8a-4cbf-ae18-64f4cea9c169",
        "colab": {
          "base_uri": "https://localhost:8080/",
          "height": 35
        }
      },
      "source": [
        "## Q1\n",
        "### Store 10000 Fab Numbers in fab_list \n",
        "from functools import reduce\n",
        "fib = lambda n: reduce(lambda x, _: x+[x[-1]+x[-2]],range(n-2), [0, 1]) \n",
        "fab_list=fib(10000)\n",
        "#### Check if x is in fb_list or not?\n",
        "check = lambda x: 'In Fabonnacci' if x in fab_list else 'Not In Fabonnacci'\n",
        "check(3)  ## Enter Number to Check here\n"
      ],
      "execution_count": 36,
      "outputs": [
        {
          "output_type": "execute_result",
          "data": {
            "application/vnd.google.colaboratory.intrinsic+json": {
              "type": "string"
            },
            "text/plain": [
              "'In Fabonnacci'"
            ]
          },
          "metadata": {
            "tags": []
          },
          "execution_count": 36
        }
      ]
    },
    {
      "cell_type": "code",
      "metadata": {
        "id": "BbKihfhuyeDz",
        "outputId": "c035a023-c118-41aa-a413-7c6477d17e86",
        "colab": {
          "base_uri": "https://localhost:8080/"
        }
      },
      "source": [
        "## Q2 -1\n",
        "\n",
        "fun = lambda a, b: a + b if (a%2==0 and b%2 !=0) else 'Enter Valid Numbers'\n",
        "fun(2,3)"
      ],
      "execution_count": 270,
      "outputs": [
        {
          "output_type": "execute_result",
          "data": {
            "text/plain": [
              "5"
            ]
          },
          "metadata": {
            "tags": []
          },
          "execution_count": 270
        }
      ]
    },
    {
      "cell_type": "code",
      "metadata": {
        "id": "x_ER55bTJcQw",
        "outputId": "dfb9d74a-2d3d-4b06-9a7e-f2b0aa741daa",
        "colab": {
          "base_uri": "https://localhost:8080/",
          "height": 35
        }
      },
      "source": [
        "## Q2 -2\n",
        "def removeVowels(word):\n",
        "    letters = []            \n",
        "    for char in word:       \n",
        "        if char.lower() not in 'aeiou':    \n",
        "            letters.append(char)  \n",
        "        else:\n",
        "            letters.append(' ')          \n",
        "    return ''.join(letters) \n",
        "\n",
        "removeVowels('aditya') ## Add String as Input"
      ],
      "execution_count": 67,
      "outputs": [
        {
          "output_type": "execute_result",
          "data": {
            "application/vnd.google.colaboratory.intrinsic+json": {
              "type": "string"
            },
            "text/plain": [
              "' d ty '"
            ]
          },
          "metadata": {
            "tags": []
          },
          "execution_count": 67
        }
      ]
    },
    {
      "cell_type": "code",
      "metadata": {
        "id": "Mvd_aZiOM8Ni",
        "outputId": "40b932ac-4370-4037-ff99-d01f802e3397",
        "colab": {
          "base_uri": "https://localhost:8080/",
          "height": 35
        }
      },
      "source": [
        "## Q2 -2\n",
        "word='aditya' ## Add String as Input\n",
        "''.join(char for char in word if char not in set('aeiouAEIOU') )"
      ],
      "execution_count": 68,
      "outputs": [
        {
          "output_type": "execute_result",
          "data": {
            "application/vnd.google.colaboratory.intrinsic+json": {
              "type": "string"
            },
            "text/plain": [
              "'dty'"
            ]
          },
          "metadata": {
            "tags": []
          },
          "execution_count": 68
        }
      ]
    },
    {
      "cell_type": "code",
      "metadata": {
        "id": "AUiJAV7sIKe8",
        "outputId": "a090090f-1d71-498e-f1bb-d378181b6a44",
        "colab": {
          "base_uri": "https://localhost:8080/"
        }
      },
      "source": [
        "## Q2 -3\n",
        "import numpy as np\n",
        "arr = np.array([1, 2, 3, 4, 5, 6, 7, 8, 9, 10, 11, 12])\n",
        "arr\n",
        "\n",
        "relu = lambda x:  x in arr \n",
        "relu(112)"
      ],
      "execution_count": 76,
      "outputs": [
        {
          "output_type": "execute_result",
          "data": {
            "text/plain": [
              "False"
            ]
          },
          "metadata": {
            "tags": []
          },
          "execution_count": 76
        }
      ]
    },
    {
      "cell_type": "code",
      "metadata": {
        "id": "h8RtwQ_W8NZI",
        "outputId": "06314802-b20b-44bc-a5ea-fb8f2e5765b8",
        "colab": {
          "base_uri": "https://localhost:8080/"
        }
      },
      "source": [
        "## Q2 -4\n",
        "relu = lambda x: 1 if  x >=0.5 else 0\n",
        "relu(0.4) ## Enter Probability\n",
        "relu(0.55) ## Enter Probability"
      ],
      "execution_count": 80,
      "outputs": [
        {
          "output_type": "execute_result",
          "data": {
            "text/plain": [
              "1"
            ]
          },
          "metadata": {
            "tags": []
          },
          "execution_count": 80
        }
      ]
    },
    {
      "cell_type": "code",
      "metadata": {
        "id": "mugsMdmt8TAN",
        "outputId": "2401db52-0571-414f-e270-9f5839aed2a2",
        "colab": {
          "base_uri": "https://localhost:8080/",
          "height": 35
        }
      },
      "source": [
        "## Q2 - 5\n",
        "strs = 'abcdefghijklmnopqrstuvwxyz'    \n",
        "def shifttext(shift):\n",
        "    inp = 'aditya' ## Add String Input\n",
        "    data = []\n",
        "    for i in inp:                   \n",
        "        if i.strip() and i in strs: \n",
        "            data.append(strs[(strs.index(i) + shift) % 26])    \n",
        "        else:\n",
        "            data.append(i)          \n",
        "    output = ''.join(data)\n",
        "    return output\n",
        "shifttext(5)\n"
      ],
      "execution_count": 83,
      "outputs": [
        {
          "output_type": "execute_result",
          "data": {
            "application/vnd.google.colaboratory.intrinsic+json": {
              "type": "string"
            },
            "text/plain": [
              "'finydf'"
            ]
          },
          "metadata": {
            "tags": []
          },
          "execution_count": 83
        }
      ]
    },
    {
      "cell_type": "code",
      "metadata": {
        "id": "qymncXTPS2xo",
        "outputId": "36acc8d3-7ea0-42c2-a9e3-eb23a75f3b0c",
        "colab": {
          "base_uri": "https://localhost:8080/",
          "height": 35
        }
      },
      "source": [
        "## Q3\n",
        "## Enter Text Paragraph ##\n",
        "\n",
        "text = \"\"\"US President Donald Trump scored the first legal battle in the battleground state of Pennsylvania wherein an appellate judge has ordered that poll watchers must be allowed within six feet of counting of votes. \"Big legal win in Pennsylvania,\" Trump said in a tweet soon after the court gave the ruling. Trump is currently leading in Pennsylvania, but his vote count has reduced considerably over the last one day. Trump Campaign Manager Bill Stepien told reporters during a conference call that the court ruling would allow them to review the counting that has already occurred as well. \"As a result of this incredible legal victory, the lower court's order has been reversed. Now, according to the Commonwealth Court of Pennsylvania, 'all candidates, watchers, or candidate representatives' shall 'be permitted to be present for the canvassing process' and 'be permitted to observe all aspects of the canvassing process within 6 feet, while adhering to all COVID-19 protocols, including, wearing masks and maintaining social distancing,\" said Justin Clark, the Deputy Manager of the Trump Campaign.\"\"\"\n",
        "\n",
        "#nltk.download('punkt')\n",
        "import nltk\n",
        "from nltk import word_tokenize\n",
        "word = word_tokenize(text)\n",
        "\n",
        "!wget https://raw.githubusercontent.com/RobertJGabriel/Google-profanity-words/master/list.txt\n",
        "\n",
        "with open(\"list.txt\") as f:\n",
        "    passage = f.read()\n",
        "    words = passage.lower().split('\\n')\n",
        "\n",
        "check = lambda x: 'Text Has swear words mentioned' if x in words  else 'Text Has NO swear words mentioned'\n",
        "check(text)  \n"
      ],
      "execution_count": 157,
      "outputs": [
        {
          "output_type": "execute_result",
          "data": {
            "application/vnd.google.colaboratory.intrinsic+json": {
              "type": "string"
            },
            "text/plain": [
              "'Text Has NO swear words mentioned'"
            ]
          },
          "metadata": {
            "tags": []
          },
          "execution_count": 157
        }
      ]
    },
    {
      "cell_type": "code",
      "metadata": {
        "id": "oB6Ss9MVFzQA",
        "outputId": "b1fed3f2-faba-4767-88bb-1d3b6615003d",
        "colab": {
          "base_uri": "https://localhost:8080/"
        }
      },
      "source": [
        "## Q4- 1\n",
        "arr={1,2,3,4,5,6} ## Enter String\n",
        "reduce(lambda a, b: a + b,filter(lambda x: x%2 == 0,range(len(arr)+1)))\n"
      ],
      "execution_count": 91,
      "outputs": [
        {
          "output_type": "execute_result",
          "data": {
            "text/plain": [
              "12"
            ]
          },
          "metadata": {
            "tags": []
          },
          "execution_count": 91
        }
      ]
    },
    {
      "cell_type": "code",
      "metadata": {
        "id": "VrM3J9WxxXER",
        "outputId": "06f0453d-b5b4-4624-8377-68b47a611983",
        "colab": {
          "base_uri": "https://localhost:8080/",
          "height": 52
        }
      },
      "source": [
        "## Q4 -2\n",
        "STR = 'Aditya' # Enter String\n",
        "print('Biggest  character in a string : ')\n",
        "reduce(lambda a,b : a if a > b else b,STR)\n"
      ],
      "execution_count": 256,
      "outputs": [
        {
          "output_type": "stream",
          "text": [
            "Biggest  character in a string : \n"
          ],
          "name": "stdout"
        },
        {
          "output_type": "execute_result",
          "data": {
            "application/vnd.google.colaboratory.intrinsic+json": {
              "type": "string"
            },
            "text/plain": [
              "'y'"
            ]
          },
          "metadata": {
            "tags": []
          },
          "execution_count": 256
        }
      ]
    },
    {
      "cell_type": "code",
      "metadata": {
        "id": "7t5jPQILsuOo",
        "outputId": "dca2d444-a3e9-49b5-eac1-5313a66ff11e",
        "colab": {
          "base_uri": "https://localhost:8080/"
        }
      },
      "source": [
        "## Q4 - 3\n",
        "source_list=[1, 2, 3, 4,5,6,7,8,9]\n",
        "from functools import reduce\n",
        "reduce(lambda a, b: a + b,filter(lambda x:(source_list[i] for i in range(len(source_list)+1)),range(0, len(source_list)+1, 3)))\n"
      ],
      "execution_count": 253,
      "outputs": [
        {
          "output_type": "execute_result",
          "data": {
            "text/plain": [
              "18"
            ]
          },
          "metadata": {
            "tags": []
          },
          "execution_count": 253
        }
      ]
    },
    {
      "cell_type": "code",
      "metadata": {
        "id": "UER0EKfgC1HV",
        "outputId": "53d61611-5685-44f7-e333-921b5bbb28c0",
        "colab": {
          "base_uri": "https://localhost:8080/",
          "height": 35
        }
      },
      "source": [
        "## Q5\n",
        "import random\n",
        "import string\n",
        "\n",
        "'KA' + ''.join(str(random.randint(10, 99)) for _ in range(1)) + ''.join(random.choice(string.ascii_uppercase) for _ in range(2)) + ''.join(str(random.randint(1000, 9999)) for _ in range(1))\n",
        "\n",
        "\n"
      ],
      "execution_count": 222,
      "outputs": [
        {
          "output_type": "execute_result",
          "data": {
            "application/vnd.google.colaboratory.intrinsic+json": {
              "type": "string"
            },
            "text/plain": [
              "'KA87HK7061'"
            ]
          },
          "metadata": {
            "tags": []
          },
          "execution_count": 222
        }
      ]
    },
    {
      "cell_type": "code",
      "metadata": {
        "id": "zgzbqJ82-I5A",
        "outputId": "f51bdde1-c489-4098-aea7-b0d229238fa4",
        "colab": {
          "base_uri": "https://localhost:8080/",
          "height": 35
        }
      },
      "source": [
        "## Q6\n",
        "import random\n",
        "import string\n",
        "State ='DL'  # Enter State\n",
        "Range =(1000,2000) #enter range for Number\n",
        "\n",
        "State + ''.join(str(random.randint(10, 99)) for _ in range(1)) + ''.join(random.choice(string.ascii_uppercase) for _ in range(2)) + ''.join(str(random.randint(Range[0],Range[1])) for _ in range(1))\n",
        "\n"
      ],
      "execution_count": 231,
      "outputs": [
        {
          "output_type": "execute_result",
          "data": {
            "application/vnd.google.colaboratory.intrinsic+json": {
              "type": "string"
            },
            "text/plain": [
              "'DL89IJ1596'"
            ]
          },
          "metadata": {
            "tags": []
          },
          "execution_count": 231
        }
      ]
    },
    {
      "cell_type": "code",
      "metadata": {
        "id": "ZVshrPx--JG0"
      },
      "source": [
        "\n",
        "\n"
      ],
      "execution_count": 231,
      "outputs": []
    }
  ]
}